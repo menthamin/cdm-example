{
 "cells": [
  {
   "cell_type": "markdown",
   "metadata": {},
   "source": [
    "# 6번 문제"
   ]
  },
  {
   "cell_type": "markdown",
   "metadata": {},
   "source": [
    "### 0. DB 커넥션\n",
    "+ 아래 접속정보 수정 필요\n",
    "+ host, dbname, user, password, port"
   ]
  },
  {
   "cell_type": "code",
   "execution_count": 152,
   "metadata": {},
   "outputs": [
    {
     "name": "stdout",
     "output_type": "stream",
     "text": [
      "Requirement already satisfied: psycopg in c:\\users\\aivelabs\\anaconda3\\lib\\site-packages (3.0.5)\n",
      "Requirement already satisfied: backports.zoneinfo; python_version < \"3.9\" in c:\\users\\aivelabs\\anaconda3\\lib\\site-packages (from psycopg) (0.2.1)\n"
     ]
    }
   ],
   "source": [
    "!pip install psycopg"
   ]
  },
  {
   "cell_type": "code",
   "execution_count": 153,
   "metadata": {},
   "outputs": [],
   "source": [
    "import psycopg2\n",
    "import pandas as pd\n",
    "\n",
    "conn = psycopg2.connect(host=\"\",  # end-point 정보\n",
    "                        dbname=\"\",  # db 명\n",
    "                        user=\"\",  # 계정\n",
    "                        password=\"\",  # 패스워드\n",
    "                        port=5432)  # 포트\n",
    "\n",
    "cur = conn.cursor()  # cursor 생성"
   ]
  },
  {
   "cell_type": "markdown",
   "metadata": {},
   "source": [
    "### 1. 제 2형 당뇨병을 진단받은 환자의 의약품 처방 내역 추출\n",
    "+ output : df(타입 : 데이터프레임)\n",
    "+ df 컬럼 리스트\n",
    "    + person_id : 환자 id\n",
    "    + drug_exposure_start_date : 처방일자\n",
    "    + drug_names : 처방일자에 처방받은 drug 리스트\n",
    "        + ex) digoxin, (smvastatin, clopidogrel), naproxen 등"
   ]
  },
  {
   "cell_type": "code",
   "execution_count": 154,
   "metadata": {},
   "outputs": [
    {
     "name": "stdout",
     "output_type": "stream",
     "text": [
      "/*\n",
      " * 6번 문제 1차 쿼리\n",
      " * 제 2형 당뇨병을 진단받은 환자의 의약품 처방 내역 추출\n",
      "*/ \n",
      "\n",
      "WITH \n",
      "t2d AS (\n",
      "\t-- 조건 a : 제 2형 당뇨병 (Type 2 diabetes, T2D)을 진단 받은 경우 추출\n",
      "\tSELECT \n",
      "\t\t\tperson_id\n",
      "\t\t,\tcondition_start_date\n",
      "\tFROM de.condition_occurrence\n",
      "\tWHERE condition_concept_id IN (3191208, 36684827, 3194332, 3193274, 43531010\n",
      "\t\t\t\t\t\t\t\t\t, 4130162, 45766052, 45757474, 4099651, 4129519\n",
      "\t\t\t\t\t\t\t\t\t, 4063043, 4230254, 4193704, 4304377, 201826\n",
      "\t\t\t\t\t\t\t\t\t, 3194082, 3192767)\n",
      ")\n",
      ", drug_exposure_list AS (\n",
      "\t-- 제 2형 당뇨병 환자들이 digoxin, smvastatin, clopidogrel, naproxen을 처방받은 경우 추출\n",
      "\tSELECT \n",
      "\t\t\tperson_id\n",
      "\t\t,\tdrug_concept_id\n",
      "\t\t,\tCASE WHEN drug_concept_id = 19018935 THEN 'digoxin'\n",
      "\t\t\t\tWHEN drug_concept_id IN (1539411, 1539463) THEN 'simvastatin'\n",
      "\t\t\t\tWHEN drug_concept_id = 19075601 THEN 'clopidogrel'\n",
      "\t\t\t\tWHEN drug_concept_id = 1115171 THEN 'naproxen'\n",
      "\t\t\tELSE NULL END AS drug_name\n",
      "\t\t,\tdrug_exposure_start_date\t\n",
      "\tFROM de.drug_exposure\n",
      "\tWHERE person_id IN (SELECT person_id FROM t2d)  -- 제 2형 당뇨병 필터\n",
      "\tAND drug_concept_id IN (19018935, 1539411, 1539463, 19075601, 1115171)  -- drug 필터\n",
      ")\n",
      "SELECT \n",
      "\t\tperson_id  -- 환자 id\n",
      "\t, \tdrug_exposure_start_date  -- drug 처방일자\n",
      "\t,\tSTRING_AGG(DISTINCT drug_name, ', ' ORDER BY drug_name) AS drug_names  -- 처방일자에 처방받은 drug 리스트\n",
      "FROM drug_exposure_list\n",
      "GROUP BY person_id, drug_exposure_start_date\n",
      "ORDER BY person_id, drug_exposure_start_date\n",
      "\n"
     ]
    }
   ],
   "source": [
    "# 쿼리파일 read\n",
    "f = open(\"./query/6_1.sql\", \"r\", encoding=\"utf-8\")\n",
    "query = f.read()\n",
    "f.close()\n",
    "print(query)"
   ]
  },
  {
   "cell_type": "code",
   "execution_count": 155,
   "metadata": {},
   "outputs": [],
   "source": [
    "# 쿼리 실행 및 데이터프레임 생성\n",
    "cur.execute(query)\n",
    "col_nm = [x[0] for x in cur.description]\n",
    "df = pd.DataFrame(cur.fetchall(), columns=col_nm)"
   ]
  },
  {
   "cell_type": "markdown",
   "metadata": {},
   "source": [
    "### 2. 의약품 내역이 변경된 패턴 추출\n",
    "+ 의약품이 변경되지 않은 경우는 추출하지 않음"
   ]
  },
  {
   "cell_type": "code",
   "execution_count": 156,
   "metadata": {},
   "outputs": [],
   "source": [
    "res = dict()  # 패턴 저장용 딕셔너리\n",
    "\n",
    "for person_id in df['person_id'].unique():\n",
    "\n",
    "    start_flag = None\n",
    "    change_flag = None\n",
    "    last_drug_name = None\n",
    "    tmp_pattern = []\n",
    "\n",
    "    for record in df[df.person_id == person_id].itertuples():\n",
    "        if \",\" in record.drug_names:  # 2개 이상 동시처방인 경우 괄호 추가\n",
    "            drug_names = \"({drug_names})\".format(drug_names=record.drug_names)\n",
    "        else: \n",
    "            drug_names = record.drug_names\n",
    "\n",
    "        # 처방 변화 확인 로직\n",
    "        if start_flag:\n",
    "            if last_drug_name == drug_names:  # 이전 처방과 같으면 pass \n",
    "                pass\n",
    "            else:  # 이전 처방과 다름\n",
    "                change_flag = 1\n",
    "                tmp_pattern.append(last_drug_name)\n",
    "                last_drug_name = drug_names\n",
    "        else:  # 최초 처방\n",
    "            start_flag = 1\n",
    "            last_drug_name = drug_names\n",
    "\n",
    "    # 의약품 변경이 있었는지 확인\n",
    "    if change_flag:  # 의약품 변경이 있는 경우\n",
    "        if tmp_pattern[-1] == last_drug_name:\n",
    "            pass\n",
    "        else:\n",
    "            tmp_pattern.append(last_drug_name)\n",
    "        \n",
    "        # 변경 패턴 저장\n",
    "        pattern_join = \" -> \".join(tmp_pattern)\n",
    "        \n",
    "        if pattern_join in res:\n",
    "            res[pattern_join] += 1\n",
    "        else:\n",
    "            res[pattern_join] = 1    \n",
    "        \n",
    "    else:\n",
    "        pass  # 의약품이 변경되지 않은 경우 패스"
   ]
  },
  {
   "cell_type": "markdown",
   "metadata": {},
   "source": [
    "### 3. 결과"
   ]
  },
  {
   "cell_type": "code",
   "execution_count": 157,
   "metadata": {},
   "outputs": [
    {
     "data": {
      "text/html": [
       "<div>\n",
       "<style scoped>\n",
       "    .dataframe tbody tr th:only-of-type {\n",
       "        vertical-align: middle;\n",
       "    }\n",
       "\n",
       "    .dataframe tbody tr th {\n",
       "        vertical-align: top;\n",
       "    }\n",
       "\n",
       "    .dataframe thead th {\n",
       "        text-align: right;\n",
       "    }\n",
       "</style>\n",
       "<table border=\"1\" class=\"dataframe\">\n",
       "  <thead>\n",
       "    <tr style=\"text-align: right;\">\n",
       "      <th></th>\n",
       "      <th>pattern</th>\n",
       "      <th>person_count</th>\n",
       "    </tr>\n",
       "  </thead>\n",
       "  <tbody>\n",
       "    <tr>\n",
       "      <th>0</th>\n",
       "      <td>simvastatin -&gt; naproxen -&gt; simvastatin</td>\n",
       "      <td>4</td>\n",
       "    </tr>\n",
       "    <tr>\n",
       "      <th>4</th>\n",
       "      <td>simvastatin -&gt; clopidogrel</td>\n",
       "      <td>2</td>\n",
       "    </tr>\n",
       "    <tr>\n",
       "      <th>2</th>\n",
       "      <td>simvastatin -&gt; (clopidogrel, simvastatin)</td>\n",
       "      <td>2</td>\n",
       "    </tr>\n",
       "    <tr>\n",
       "      <th>7</th>\n",
       "      <td>simvastatin -&gt; naproxen</td>\n",
       "      <td>1</td>\n",
       "    </tr>\n",
       "    <tr>\n",
       "      <th>9</th>\n",
       "      <td>simvastatin -&gt; clopidogrel -&gt; (clopidogrel, simvastatin) -&gt; digoxin -&gt; (clopidogrel, digoxin, simvastatin) -&gt; clopidogrel -&gt; (clopidogrel, digoxin, simvastatin) -&gt; clopidogrel -&gt; (clopidogrel, digoxin, simvastatin)</td>\n",
       "      <td>1</td>\n",
       "    </tr>\n",
       "    <tr>\n",
       "      <th>3</th>\n",
       "      <td>naproxen -&gt; digoxin -&gt; simvastatin</td>\n",
       "      <td>1</td>\n",
       "    </tr>\n",
       "    <tr>\n",
       "      <th>6</th>\n",
       "      <td>naproxen -&gt; digoxin -&gt; (digoxin, simvastatin)</td>\n",
       "      <td>1</td>\n",
       "    </tr>\n",
       "    <tr>\n",
       "      <th>1</th>\n",
       "      <td>naproxen -&gt; (clopidogrel, simvastatin) -&gt; simvastatin -&gt; (clopidogrel, simvastatin) -&gt; simvastatin -&gt; (clopidogrel, simvastatin) -&gt; simvastatin -&gt; (clopidogrel, simvastatin) -&gt; simvastatin -&gt; (clopidogrel, simvastatin) -&gt; simvastatin -&gt; (clopidogrel, simvastatin) -&gt; simvastatin -&gt; (clopidogrel, simvastatin) -&gt; simvastatin -&gt; (clopidogrel, simvastatin) -&gt; simvastatin -&gt; (clopidogrel, simvastatin) -&gt; simvastatin -&gt; (clopidogrel, simvastatin) -&gt; simvastatin -&gt; (clopidogrel, simvastatin) -&gt; simvastatin -&gt; (clopidogrel, simvastatin)</td>\n",
       "      <td>1</td>\n",
       "    </tr>\n",
       "    <tr>\n",
       "      <th>5</th>\n",
       "      <td>digoxin -&gt; naproxen -&gt; digoxin</td>\n",
       "      <td>1</td>\n",
       "    </tr>\n",
       "    <tr>\n",
       "      <th>8</th>\n",
       "      <td>(clopidogrel, simvastatin) -&gt; simvastatin -&gt; (clopidogrel, simvastatin) -&gt; simvastatin -&gt; (clopidogrel, simvastatin) -&gt; simvastatin -&gt; (clopidogrel, simvastatin) -&gt; simvastatin -&gt; (clopidogrel, simvastatin)</td>\n",
       "      <td>1</td>\n",
       "    </tr>\n",
       "  </tbody>\n",
       "</table>\n",
       "</div>"
      ],
      "text/plain": [
       "                                                                                                                                                                                                                                                                                                                                                                                                                                                                                                                                                 pattern  \\\n",
       "0                                                                                                                                                                                                                                                                                                                                                                                                                                                                                                                 simvastatin -> naproxen -> simvastatin   \n",
       "4                                                                                                                                                                                                                                                                                                                                                                                                                                                                                                                             simvastatin -> clopidogrel   \n",
       "2                                                                                                                                                                                                                                                                                                                                                                                                                                                                                                              simvastatin -> (clopidogrel, simvastatin)   \n",
       "7                                                                                                                                                                                                                                                                                                                                                                                                                                                                                                                                simvastatin -> naproxen   \n",
       "9                                                                                                                                                                                                                                                                                                                                 simvastatin -> clopidogrel -> (clopidogrel, simvastatin) -> digoxin -> (clopidogrel, digoxin, simvastatin) -> clopidogrel -> (clopidogrel, digoxin, simvastatin) -> clopidogrel -> (clopidogrel, digoxin, simvastatin)   \n",
       "3                                                                                                                                                                                                                                                                                                                                                                                                                                                                                                                     naproxen -> digoxin -> simvastatin   \n",
       "6                                                                                                                                                                                                                                                                                                                                                                                                                                                                                                          naproxen -> digoxin -> (digoxin, simvastatin)   \n",
       "1  naproxen -> (clopidogrel, simvastatin) -> simvastatin -> (clopidogrel, simvastatin) -> simvastatin -> (clopidogrel, simvastatin) -> simvastatin -> (clopidogrel, simvastatin) -> simvastatin -> (clopidogrel, simvastatin) -> simvastatin -> (clopidogrel, simvastatin) -> simvastatin -> (clopidogrel, simvastatin) -> simvastatin -> (clopidogrel, simvastatin) -> simvastatin -> (clopidogrel, simvastatin) -> simvastatin -> (clopidogrel, simvastatin) -> simvastatin -> (clopidogrel, simvastatin) -> simvastatin -> (clopidogrel, simvastatin)   \n",
       "5                                                                                                                                                                                                                                                                                                                                                                                                                                                                                                                         digoxin -> naproxen -> digoxin   \n",
       "8                                                                                                                                                                                                                                                                                                                                         (clopidogrel, simvastatin) -> simvastatin -> (clopidogrel, simvastatin) -> simvastatin -> (clopidogrel, simvastatin) -> simvastatin -> (clopidogrel, simvastatin) -> simvastatin -> (clopidogrel, simvastatin)   \n",
       "\n",
       "   person_count  \n",
       "0             4  \n",
       "4             2  \n",
       "2             2  \n",
       "7             1  \n",
       "9             1  \n",
       "3             1  \n",
       "6             1  \n",
       "1             1  \n",
       "5             1  \n",
       "8             1  "
      ]
     },
     "execution_count": 157,
     "metadata": {},
     "output_type": "execute_result"
    }
   ],
   "source": [
    "df_res = pd.DataFrame.from_dict(res, orient='index').reset_index()\n",
    "df_res.columns = ['pattern', 'person_count']\n",
    "df_res.sort_values(by=['person_count', 'pattern'], ascending=False, inplace=True)\n",
    "pd.set_option('display.max_colwidth', None)  # 데이터프레임 컬럼너비 제한 제거\n",
    "\n",
    "df_res"
   ]
  }
 ],
 "metadata": {
  "kernelspec": {
   "display_name": "Python 3",
   "language": "python",
   "name": "python3"
  },
  "language_info": {
   "codemirror_mode": {
    "name": "ipython",
    "version": 3
   },
   "file_extension": ".py",
   "mimetype": "text/x-python",
   "name": "python",
   "nbconvert_exporter": "python",
   "pygments_lexer": "ipython3",
   "version": "3.8.5"
  }
 },
 "nbformat": 4,
 "nbformat_minor": 4
}
