{
 "cells": [
  {
   "cell_type": "markdown",
   "metadata": {},
   "source": [
    "# 5번 문제"
   ]
  },
  {
   "cell_type": "markdown",
   "metadata": {},
   "source": [
    "### 0. DB 커넥션\n",
    "+ 아래 접속정보 수정 필요\n",
    "+ host, dbname, user, password, port"
   ]
  },
  {
   "cell_type": "code",
   "execution_count": 1,
   "metadata": {},
   "outputs": [
    {
     "name": "stdout",
     "output_type": "stream",
     "text": [
      "Requirement already satisfied: psycopg in c:\\users\\aivelabs\\anaconda3\\lib\\site-packages (3.0.5)\n",
      "Requirement already satisfied: backports.zoneinfo; python_version < \"3.9\" in c:\\users\\aivelabs\\anaconda3\\lib\\site-packages (from psycopg) (0.2.1)\n"
     ]
    }
   ],
   "source": [
    "!pip install psycopg"
   ]
  },
  {
   "cell_type": "code",
   "execution_count": 2,
   "metadata": {},
   "outputs": [],
   "source": [
    "import psycopg2\n",
    "import pandas as pd\n",
    "\n",
    "conn = psycopg2.connect(host=\"000.000.000.000\",  # end-point 정보\n",
    "                        dbname=\"dbname\",  # db 명\n",
    "                        user=\"user\",  # 계정\n",
    "                        password=\"password\",  # 패스워드\n",
    "                        port=5432)  # 포트"
   ]
  },
  {
   "cell_type": "code",
   "execution_count": 3,
   "metadata": {},
   "outputs": [],
   "source": [
    "cur = conn.cursor()  # cursor 생성"
   ]
  },
  {
   "cell_type": "markdown",
   "metadata": {},
   "source": [
    "### 1. 2형 당뇨병 and 18세 이상 환자 정보 추출\n",
    "+ output : df(타입 : 데이터프레임)\n",
    "+ df 컬럼 리스트\n",
    "    + person_id : 환자 id\n",
    "    + condition_start_date : 진단 일자\n",
    "    + age_man : 만 나이"
   ]
  },
  {
   "cell_type": "code",
   "execution_count": 4,
   "metadata": {},
   "outputs": [
    {
     "name": "stdout",
     "output_type": "stream",
     "text": [
      "/*\n",
      " * 5번 문제 1차 쿼리\n",
      " * 아래 조건에 모두 해당하는 환자수를 추출\n",
      " * a. 제 2형 당뇨병을 진단받은 환자 추출\n",
      " * b. 18세 이상\n",
      "*/ \n",
      "\n",
      "WITH \n",
      "t2d AS (\n",
      "\t-- 조건 a : 제 2형 당뇨병 (Type 2 diabetes, T2D) 진단\n",
      "\tSELECT \n",
      "\t\t\tperson_id\n",
      "\t\t,\tcondition_start_date\n",
      "\tFROM de.condition_occurrence\n",
      "\tWHERE condition_concept_id IN (3191208, 36684827, 3194332, 3193274, 43531010\n",
      "\t\t\t\t\t\t\t\t\t, 4130162, 45766052, 45757474, 4099651, 4129519\n",
      "\t\t\t\t\t\t\t\t\t, 4063043, 4230254, 4193704, 4304377, 201826\n",
      "\t\t\t\t\t\t\t\t\t, 3194082, 3192767)\n",
      ")\n",
      ", person_age AS (\n",
      "\t-- 환자 나이 계산 / age() 함수 사용, 현재 시간(DBMS) 기준\n",
      "\tSELECT\n",
      "\t\t\tperson_id\n",
      "\t\t,\tbirth_datetime\n",
      "\t\t,\tEXTRACT(YEAR FROM age(now(), birth_datetime)) AS age_man\n",
      "\tFROM de.person\n",
      ")\n",
      ", t2d_man18_list AS (\n",
      "SELECT \n",
      "\t\tt2d.person_id\n",
      "\t,\tt2d.condition_start_date\n",
      "\t,\tpa.birth_datetime\n",
      "\t,\tpa.age_man\n",
      "FROM t2d t2d\n",
      "LEFT JOIN person_age pa\n",
      "ON t2d.person_id = pa.person_id\n",
      "WHERE pa.age_man >= 18\n",
      ")\n",
      "SELECT \n",
      "\t\tperson_id  -- 환자 id\n",
      "\t,\tcondition_start_date -- 질병 진단일자\n",
      "\t,\tage_man  -- 만 나이\n",
      "FROM t2d_man18_list\n"
     ]
    }
   ],
   "source": [
    "# 쿼리파일 read\n",
    "f = open(\"./query/5_1.sql\", \"r\", encoding=\"utf-8\")\n",
    "query = f.read()\n",
    "f.close()\n",
    "print(query)"
   ]
  },
  {
   "cell_type": "code",
   "execution_count": 5,
   "metadata": {},
   "outputs": [],
   "source": [
    "# 쿼리 실행 및 데이터프레임 생성\n",
    "cur.execute(query)\n",
    "col_nm = [x[0] for x in cur.description]\n",
    "df = pd.DataFrame(cur.fetchall(), columns=col_nm)"
   ]
  },
  {
   "cell_type": "markdown",
   "metadata": {},
   "source": [
    "### 2. 환자별 Metformin (drug_concept_id = 40163924) 90일 이상 복용여부 확인\n",
    "+ 조건 : 제 2형 당뇨병을 진단받은 이후\n",
    "+ Output : cnt"
   ]
  },
  {
   "cell_type": "code",
   "execution_count": 6,
   "metadata": {},
   "outputs": [],
   "source": [
    "cnt = 0 # 90일 이상 복용한 환자수\n",
    "\n",
    "for record in df.itertuples():\n",
    "    cur.execute(\"\"\"\n",
    "                SELECT \n",
    "                    sum(drug_exposure_end_date - drug_exposure_start_date + 1)\n",
    "                FROM de.drug_exposure\n",
    "                WHERE person_id = %(person_id)s  -- person_id\n",
    "                AND drug_concept_id = '40163924'  -- concept_id(고정)\n",
    "                AND drug_exposure_start_date >= %(condition_start_date)s -- condition_start_date\n",
    "                \"\"\",\n",
    "               {\"person_id\" : record.person_id, \"condition_start_date\" : record.condition_start_date})\n",
    "    \n",
    "    res = cur.fetchone()[0]  # 복용일 수 추출\n",
    "    \n",
    "    if res:  # 복용을 한 경우\n",
    "        if res >= 90:  # 90일 이상인지 확인\n",
    "            cnt += 1"
   ]
  },
  {
   "cell_type": "code",
   "execution_count": 7,
   "metadata": {},
   "outputs": [
    {
     "name": "stdout",
     "output_type": "stream",
     "text": [
      "30\n"
     ]
    }
   ],
   "source": [
    "print(cnt)"
   ]
  },
  {
   "cell_type": "markdown",
   "metadata": {},
   "source": [
    "### 3. 결과\n",
    "+ 조건에 맞는 환자수 : 30명"
   ]
  },
  {
   "cell_type": "code",
   "execution_count": null,
   "metadata": {},
   "outputs": [],
   "source": []
  }
 ],
 "metadata": {
  "kernelspec": {
   "display_name": "Python 3",
   "language": "python",
   "name": "python3"
  },
  "language_info": {
   "codemirror_mode": {
    "name": "ipython",
    "version": 3
   },
   "file_extension": ".py",
   "mimetype": "text/x-python",
   "name": "python",
   "nbconvert_exporter": "python",
   "pygments_lexer": "ipython3",
   "version": "3.8.5"
  }
 },
 "nbformat": 4,
 "nbformat_minor": 4
}
