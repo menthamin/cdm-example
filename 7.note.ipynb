{
 "cells": [
  {
   "cell_type": "markdown",
   "metadata": {},
   "source": [
    "# 7번 문제"
   ]
  },
  {
   "cell_type": "markdown",
   "metadata": {},
   "source": [
    "### 0. DB 커넥션\n",
    "+ config/db_config.py 파일에서 아래 정보 수정 필요\n",
    "+ host, dbname, user, password"
   ]
  },
  {
   "cell_type": "code",
   "execution_count": 12,
   "metadata": {},
   "outputs": [],
   "source": [
    "# 주석제거 후 설치 필요\n",
    "#!pip install psycopg"
   ]
  },
  {
   "cell_type": "code",
   "execution_count": 13,
   "metadata": {},
   "outputs": [],
   "source": [
    "import imp\n",
    "import psycopg2\n",
    "import pandas as pd\n",
    "import config.db_config as config # db_config 접속 정보 / 테스트 시 config/db_config.py 수정 필요\n",
    "imp.reload(config)  # 수정 시 reload \n",
    "\n",
    "psql_config = config.psql_config\n",
    "\n",
    "conn = psycopg2.connect(host=psql_config['host'],  # end-point 정보\n",
    "                        dbname=psql_config['dbname'],  # db 명\n",
    "                        user=psql_config['user'],  # 계정\n",
    "                        password=psql_config[\"password\"],  # 패스워드\n",
    "                        port=psql_config[\"port\"]  # 포트\n",
    "                       )\n",
    "\n",
    "cur = conn.cursor()  # cursor 생성"
   ]
  },
  {
   "cell_type": "markdown",
   "metadata": {},
   "source": [
    "### 1. 테이블 4종 생성\n",
    "- 1. person 테이블\n",
    "- 2. visit_occurrence 테이블\n",
    "- 3. drug_exposure 테이블\n",
    "- 4. condition_occurrence 테이블"
   ]
  },
  {
   "cell_type": "code",
   "execution_count": 14,
   "metadata": {},
   "outputs": [
    {
     "name": "stdout",
     "output_type": "stream",
     "text": [
      "/*\n",
      " * 7번 문제\n",
      " * \n",
      " * 테이블 생성 DDL 문\n",
      " * 내용 :\n",
      " *  테이블 및 시퀀스 drop\n",
      " *  0. 랜덤번호 부여를 위한 pseudo_encrypt() 함수 생성\n"
     ]
    }
   ],
   "source": [
    "# 쿼리파일 read\n",
    "f = open(\"./query/ddl/7_1.sql\", \"r\", encoding=\"utf-8\")\n",
    "query = f.read()\n",
    "f.close()\n",
    "print(query[:100])"
   ]
  },
  {
   "cell_type": "code",
   "execution_count": 15,
   "metadata": {},
   "outputs": [],
   "source": [
    "cur.execute(query)"
   ]
  },
  {
   "cell_type": "markdown",
   "metadata": {},
   "source": [
    "### 2. note 데이터 파싱\n",
    "- 모두 동일한 사람으로 추정 (생년월일, 성별, 인종 같음)\n",
    "- 각 정보들의 index 번호 확인\n",
    "    - Race: 2\n",
    "    - Ethnicity: 3\n",
    "    - Gender: 4\n",
    "    - Age: 5\n",
    "    - Birth Date: 6\n",
    "    - 내원일자, 기관명 : 13\n",
    "    - 내원타입 : 14"
   ]
  },
  {
   "cell_type": "code",
   "execution_count": 16,
   "metadata": {},
   "outputs": [],
   "source": [
    "from collections import defaultdict\n",
    "\n",
    "cur.execute(\"SELECT * FROM clinical_note\")\n",
    "note_data = [x[0] for x in cur.fetchall()]"
   ]
  },
  {
   "cell_type": "code",
   "execution_count": 17,
   "metadata": {},
   "outputs": [],
   "source": [
    "person_info = set()  # persion info 저장\n",
    "visit_info = defaultdict(list)  # person별 visit info 저장 \n",
    "\n",
    "for i, _  in enumerate(note_data):\n",
    "#     print(\"# {note_num} note\".format(note_num=i+1))  # 확인용\n",
    "    for idx, x in enumerate(note_data[i].split(\"\\n\")):\n",
    "#         print(idx, x)  # 정보 확인용 \n",
    "        if idx == 2:\n",
    "            tmp_race = x.split()[1]\n",
    "        elif idx == 3:\n",
    "            tmp_eth = x.split()[1]\n",
    "        elif idx == 4:\n",
    "            tmp_gender = x.split()[1]\n",
    "        elif idx == 5:\n",
    "            tmp_age = x.split()[1]\n",
    "        elif idx == 6:\n",
    "            tmp_birth = x.split(\":\")[1].strip()\n",
    "        elif idx == 13:\n",
    "            tmp_visit_date = x.split(\":\")[0].strip()\n",
    "            tmp_visit_site = x.split(\":\")[1].strip()\n",
    "        elif idx == 14:\n",
    "            tmp_visit_type = x.split(\":\")[1].strip()\n",
    "        else:\n",
    "            pass\n",
    "        \n",
    "    tmp_person = (tmp_race, tmp_eth, tmp_gender, tmp_age, tmp_birth)  # person 정보\n",
    "    tmp_visit = (tmp_visit_date, tmp_visit_site, tmp_visit_type)  # visit 정보\n",
    "\n",
    "    person_info.add(tmp_person)  # person 추가\n",
    "    visit_info[tmp_person].append(tmp_visit)  # person별 visit 정보 추가"
   ]
  },
  {
   "cell_type": "markdown",
   "metadata": {},
   "source": [
    "### 3. 결과"
   ]
  },
  {
   "cell_type": "code",
   "execution_count": 18,
   "metadata": {},
   "outputs": [],
   "source": [
    "from pprint import pprint"
   ]
  },
  {
   "cell_type": "markdown",
   "metadata": {},
   "source": [
    "#### 아래 주석 제거하면 출력 가능 "
   ]
  },
  {
   "cell_type": "code",
   "execution_count": 19,
   "metadata": {},
   "outputs": [],
   "source": [
    "# pprint(person_info)\n",
    "# pprint(visit_info[person_info.pop()])"
   ]
  },
  {
   "cell_type": "markdown",
   "metadata": {},
   "source": [
    "### 4. 추가 필요 절차\n",
    "1. note에서 정보를 파싱하는 룰 추가\n",
    "2. DB에 인서트"
   ]
  }
 ],
 "metadata": {
  "kernelspec": {
   "display_name": "Python 3",
   "language": "python",
   "name": "python3"
  },
  "language_info": {
   "codemirror_mode": {
    "name": "ipython",
    "version": 3
   },
   "file_extension": ".py",
   "mimetype": "text/x-python",
   "name": "python",
   "nbconvert_exporter": "python",
   "pygments_lexer": "ipython3",
   "version": "3.8.5"
  }
 },
 "nbformat": 4,
 "nbformat_minor": 4
}
